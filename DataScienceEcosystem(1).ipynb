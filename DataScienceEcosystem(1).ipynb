{
 "cells": [
  {
   "cell_type": "markdown",
   "id": "7a42494d",
   "metadata": {},
   "source": [
    "# Data Science Tools and Ecosystem"
   ]
  },
  {
   "cell_type": "markdown",
   "id": "bfc3dfa9",
   "metadata": {},
   "source": [
    "## Data Science Tools and Ecosystem"
   ]
  },
  {
   "cell_type": "markdown",
   "id": "eb12cb50",
   "metadata": {},
   "source": [
    "### Data Science Tools and Ecosystem"
   ]
  },
  {
   "cell_type": "markdown",
   "id": "7c05dc3c",
   "metadata": {},
   "source": [
    "## Introduction"
   ]
  },
  {
   "cell_type": "code",
   "execution_count": 1,
   "id": "09d0c842",
   "metadata": {},
   "outputs": [
    {
     "name": "stdout",
     "output_type": "stream",
     "text": [
      "In this notebook, Data Science Tools and Ecosystem are summarized\n"
     ]
    }
   ],
   "source": [
    "\n",
    "print(\"In this notebook, Data Science Tools and Ecosystem are summarized\")"
   ]
  },
  {
   "cell_type": "markdown",
   "id": "c9a17fb0",
   "metadata": {},
   "source": [
    "## Popular Languages of Data Science"
   ]
  },
  {
   "cell_type": "code",
   "execution_count": 2,
   "id": "53cb8173",
   "metadata": {},
   "outputs": [
    {
     "name": "stdout",
     "output_type": "stream",
     "text": [
      "Some of the popular languages that Data Scientists use are: 1.Python  2.SQL  3.R Programming\n"
     ]
    }
   ],
   "source": [
    "print(\"Some of the popular languages that Data Scientists use are: 1.Python  2.SQL  3.R Programming\")"
   ]
  },
  {
   "cell_type": "markdown",
   "id": "2daefb13",
   "metadata": {},
   "source": [
    "## Commonly Used Libraries"
   ]
  },
  {
   "cell_type": "code",
   "execution_count": 3,
   "id": "46674931",
   "metadata": {},
   "outputs": [
    {
     "name": "stdout",
     "output_type": "stream",
     "text": [
      "Some of the commonly used libraries used by Data Scientists include:1.Pandas 2.Numpy 3.Seabone 4.Matplotlib 5.sklearn 6.SciPy\n"
     ]
    }
   ],
   "source": [
    " \n",
    "print(\"Some of the commonly used libraries used by Data Scientists include:1.Pandas 2.Numpy 3.Seabone 4.Matplotlib 5.sklearn 6.SciPy\")"
   ]
  },
  {
   "cell_type": "markdown",
   "id": "028ab30e",
   "metadata": {},
   "source": [
    "## Data Science Tools\n",
    "\n",
    "| Data Science Tools       |\n",
    "|--------------------------|\n",
    "| Jupyter Notebook         |\n",
    "| RStudio                  |\n",
    "| Python                   |\n",
    "| Orange                   |\n",
    "| IBM SPSS                 |\n",
    "| SAS                      |\n",
    "| Apache Spark             |\n",
    "| Tableau                  |"
   ]
  },
  {
   "cell_type": "markdown",
   "id": "235ed908",
   "metadata": {},
   "source": [
    "## Below are a few examples of evaluating arithmetic expressions in Python"
   ]
  },
  {
   "cell_type": "code",
   "execution_count": 25,
   "id": "1a38fa23",
   "metadata": {},
   "outputs": [],
   "source": [
    "m= (3*4)+5"
   ]
  },
  {
   "cell_type": "code",
   "execution_count": 26,
   "id": "8213628c",
   "metadata": {},
   "outputs": [
    {
     "name": "stdout",
     "output_type": "stream",
     "text": [
      "17\n"
     ]
    }
   ],
   "source": [
    "print(m)"
   ]
  },
  {
   "cell_type": "markdown",
   "id": "bfbf5834",
   "metadata": {},
   "source": [
    "## Multiply and Add Integers "
   ]
  },
  {
   "cell_type": "code",
   "execution_count": 27,
   "id": "603b51a3",
   "metadata": {},
   "outputs": [],
   "source": [
    "a = (2*5) + (6*7) + (9*8)"
   ]
  },
  {
   "cell_type": "code",
   "execution_count": 28,
   "id": "477e0917",
   "metadata": {},
   "outputs": [
    {
     "data": {
      "text/plain": [
       "124"
      ]
     },
     "execution_count": 28,
     "metadata": {},
     "output_type": "execute_result"
    }
   ],
   "source": [
    "a"
   ]
  },
  {
   "cell_type": "code",
   "execution_count": 17,
   "id": "cc3c639f",
   "metadata": {},
   "outputs": [
    {
     "name": "stdout",
     "output_type": "stream",
     "text": [
      "7\n"
     ]
    }
   ],
   "source": [
    "print(a)"
   ]
  },
  {
   "cell_type": "code",
   "execution_count": 18,
   "id": "83c5ebc9",
   "metadata": {},
   "outputs": [],
   "source": [
    "b = 7-9"
   ]
  },
  {
   "cell_type": "code",
   "execution_count": 19,
   "id": "f70c1647",
   "metadata": {},
   "outputs": [
    {
     "name": "stdout",
     "output_type": "stream",
     "text": [
      "-2\n"
     ]
    }
   ],
   "source": [
    "print(b)"
   ]
  },
  {
   "cell_type": "code",
   "execution_count": 20,
   "id": "e0529c2c",
   "metadata": {},
   "outputs": [],
   "source": [
    "g = 2 + (7*6)"
   ]
  },
  {
   "cell_type": "markdown",
   "id": "900f7290",
   "metadata": {},
   "source": [
    "## Create a code cell to convert minutes to hours"
   ]
  },
  {
   "cell_type": "code",
   "execution_count": 31,
   "id": "9722e789",
   "metadata": {},
   "outputs": [
    {
     "name": "stdout",
     "output_type": "stream",
     "text": [
      "200 minutes is equal to 3.3333333333333335 hours\n"
     ]
    }
   ],
   "source": [
    "minutes = 200\n",
    "hours = minutes / 60\n",
    "\n",
    "print(f\"{minutes} minutes is equal to {hours} hours\")"
   ]
  },
  {
   "cell_type": "markdown",
   "id": "e08af504",
   "metadata": {},
   "source": [
    "## Popular Languages of Data Science"
   ]
  },
  {
   "cell_type": "code",
   "execution_count": 39,
   "id": "5a26a6ce",
   "metadata": {},
   "outputs": [
    {
     "name": "stdout",
     "output_type": "stream",
     "text": [
      "Some of the popular languages that Data Scientists use are: 1.Python  2.SQL  3.R Programming\n"
     ]
    }
   ],
   "source": [
    "print(\"Some of the popular languages that Data Scientists use are: 1.Python  2.SQL  3.R Programming\")"
   ]
  },
  {
   "cell_type": "markdown",
   "id": "83e3ecca",
   "metadata": {},
   "source": [
    "## Objectives"
   ]
  },
  {
   "cell_type": "code",
   "execution_count": 35,
   "id": "99a6c2e1",
   "metadata": {},
   "outputs": [
    {
     "name": "stdout",
     "output_type": "stream",
     "text": [
      "Some of the popular languages that Data Scientists use are: 1.Python  2.SQL  3.R Programming\n",
      "- Learned about some of the popular python packages\n",
      "- Learned about various Data Science Languages\n",
      "- Leraned about about various data visualization tools\n",
      "- Learned about various Github Concepts\n",
      "- Leraned about Jupyter notebook concepts\n"
     ]
    }
   ],
   "source": [
    "print(\"- Learned about some of the popular python packages\")\n",
    "print(\"- Learned about various Data Science Languages\")\n",
    "print(\"- Leraned about about various data visualization tools\")\n",
    "print(\"- Learned about various Github Concepts\")\n",
    "print(\"- Leraned about Jupyter notebook concepts\") "
   ]
  },
  {
   "cell_type": "markdown",
   "id": "b61c9311",
   "metadata": {},
   "source": [
    "# Author's name\n",
    "Author: A M Mahaboob Basha"
   ]
  }
 ],
 "metadata": {
  "kernelspec": {
   "display_name": "Python 3 (ipykernel)",
   "language": "python",
   "name": "python3"
  },
  "language_info": {
   "codemirror_mode": {
    "name": "ipython",
    "version": 3
   },
   "file_extension": ".py",
   "mimetype": "text/x-python",
   "name": "python",
   "nbconvert_exporter": "python",
   "pygments_lexer": "ipython3",
   "version": "3.10.9"
  }
 },
 "nbformat": 4,
 "nbformat_minor": 5
}
